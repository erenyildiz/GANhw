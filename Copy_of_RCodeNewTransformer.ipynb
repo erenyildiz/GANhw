{
  "nbformat": 4,
  "nbformat_minor": 0,
  "metadata": {
    "colab": {
      "name": "Copy of RCodeNewTransformer.ipynb",
      "provenance": [],
      "authorship_tag": "ABX9TyMcgr+Bc0qottC+6nYpZmcw",
      "include_colab_link": true
    },
    "kernelspec": {
      "name": "ir",
      "display_name": "R"
    },
    "language_info": {
      "name": "R"
    }
  },
  "cells": [
    {
      "cell_type": "markdown",
      "metadata": {
        "id": "view-in-github",
        "colab_type": "text"
      },
      "source": [
        "<a href=\"https://colab.research.google.com/github/erenyildiz/GANhw/blob/master/Copy_of_RCodeNewTransformer.ipynb\" target=\"_parent\"><img src=\"https://colab.research.google.com/assets/colab-badge.svg\" alt=\"Open In Colab\"/></a>"
      ]
    },
    {
      "cell_type": "code",
      "execution_count": null,
      "metadata": {
        "id": "TBzlkpD0-nyc"
      },
      "outputs": [],
      "source": [
        "### We want to differentiate between liberty intake form vs others, and also understand what the formatting is, i.e. one sheet or multi sheet.\n",
        " "
      ]
    },
    {
      "cell_type": "code",
      "source": [
        "### import libraries"
      ],
      "metadata": {
        "id": "92jZGir5--tQ"
      },
      "execution_count": null,
      "outputs": []
    },
    {
      "cell_type": "code",
      "source": [
        "### import excel sheet"
      ],
      "metadata": {
        "id": "8qZguutq-5v1"
      },
      "execution_count": null,
      "outputs": []
    },
    {
      "cell_type": "code",
      "source": [
        "### load keywords"
      ],
      "metadata": {
        "id": "XoVDR_SoARXm"
      },
      "execution_count": null,
      "outputs": []
    },
    {
      "cell_type": "code",
      "source": [
        "### understand the formatting\n"
      ],
      "metadata": {
        "id": "GEqxWt3n-9zp"
      },
      "execution_count": null,
      "outputs": []
    },
    {
      "cell_type": "code",
      "source": [
        "### move all questions to a vector\n"
      ],
      "metadata": {
        "id": "I47aC2yQ_C_C"
      },
      "execution_count": null,
      "outputs": []
    },
    {
      "cell_type": "code",
      "source": [
        "### match questions to keywords"
      ],
      "metadata": {
        "id": "0z5EDK3S_R4h"
      },
      "execution_count": null,
      "outputs": []
    },
    {
      "cell_type": "code",
      "source": [
        "### create a list of all new keywords, ask user to match them to our form's questions, and update the keywords\n"
      ],
      "metadata": {
        "id": "p0A7qQerAOJ-"
      },
      "execution_count": null,
      "outputs": []
    },
    {
      "cell_type": "code",
      "source": [
        "### per country, take the answers to the questions and create a matrix"
      ],
      "metadata": {
        "id": "BlcqsXiH_Xmx"
      },
      "execution_count": null,
      "outputs": []
    },
    {
      "cell_type": "code",
      "source": [
        "### load the correct Globex submission form depending on the LOB"
      ],
      "metadata": {
        "id": "ll7-2Vwp_dbC"
      },
      "execution_count": null,
      "outputs": []
    },
    {
      "cell_type": "code",
      "source": [
        "### write the answers to the form"
      ],
      "metadata": {
        "id": "sBV7IEJb_dec"
      },
      "execution_count": null,
      "outputs": []
    }
  ]
}